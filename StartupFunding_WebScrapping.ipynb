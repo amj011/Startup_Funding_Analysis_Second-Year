{
  "nbformat": 4,
  "nbformat_minor": 0,
  "metadata": {
    "colab": {
      "name": "StartupFunding_WebScrapping.ipynb",
      "provenance": [],
      "authorship_tag": "ABX9TyN4+ZiU6rakUCYwF5rVc3g4",
      "include_colab_link": true
    },
    "kernelspec": {
      "name": "python3",
      "display_name": "Python 3"
    },
    "language_info": {
      "name": "python"
    }
  },
  "cells": [
    {
      "cell_type": "markdown",
      "metadata": {
        "id": "view-in-github",
        "colab_type": "text"
      },
      "source": [
        "<a href=\"https://colab.research.google.com/github/Manomay15/Startup-Funding-Analysis/blob/main/StartupFunding_WebScrapping.ipynb\" target=\"_parent\"><img src=\"https://colab.research.google.com/assets/colab-badge.svg\" alt=\"Open In Colab\"/></a>"
      ]
    },
    {
      "cell_type": "code",
      "execution_count": null,
      "metadata": {
        "id": "NWjvKDYs0aN2"
      },
      "outputs": [],
      "source": [
        "from bs4 import BeautifulSoup\n",
        "import requests"
      ]
    },
    {
      "cell_type": "code",
      "source": [
        "page = requests.get('https://trak.in/india-startup-funding-investment-2015/')"
      ],
      "metadata": {
        "id": "zTxdrxNq0-c8"
      },
      "execution_count": null,
      "outputs": []
    },
    {
      "cell_type": "code",
      "source": [
        "soup = BeautifulSoup(page.content, 'html.parser')"
      ],
      "metadata": {
        "id": "5QKAHCX41Egq"
      },
      "execution_count": null,
      "outputs": []
    },
    {
      "cell_type": "code",
      "source": [
        "dates = list(soup.find_all('td', class_='column-2'))\n",
        "names = list(soup.find_all('td', class_='column-3'))\n",
        "industry = list(soup.find_all('td', class_='column-4'))\n",
        "location = list(soup.find_all('td', class_='column-6'))\n",
        "investor_name = list(soup.find_all('td', class_='column-7'))\n",
        "investment_type = list(soup.find_all('td', class_='column-8'))\n",
        "amount = list(soup.find_all('td', class_='column-9'))"
      ],
      "metadata": {
        "id": "WiWjpprn1SvT"
      },
      "execution_count": null,
      "outputs": []
    },
    {
      "cell_type": "code",
      "source": [
        "date = []\n",
        "name = []\n",
        "ind = []\n",
        "loc = []\n",
        "in_name = []\n",
        "in_type = []\n",
        "amt = []\n",
        "\n",
        "for i in range(len(dates)):\n",
        "  date.append(dates[i].text)\n",
        "  name.append(names[i].text)\n",
        "  ind.append(industry[i].text)\n",
        "  loc.append(location[i].text)\n",
        "  in_name.append(investor_name[i].text)\n",
        "  in_type.append(investment_type[i].text)\n",
        "  amt.append(amount[i].text)"
      ],
      "metadata": {
        "id": "SoUgn9BK9Zba"
      },
      "execution_count": null,
      "outputs": []
    },
    {
      "cell_type": "code",
      "source": [
        "dic = {'Date': date,\n",
        "       'Startup': name,\n",
        "       'Industry': ind,\n",
        "       'Location': loc,\n",
        "       'Investor': in_name,\n",
        "       'Type': in_type,\n",
        "       'Amount': amt\n",
        "       }"
      ],
      "metadata": {
        "id": "hkGqz_zk5ZqV"
      },
      "execution_count": null,
      "outputs": []
    },
    {
      "cell_type": "code",
      "source": [
        "import pandas as pd"
      ],
      "metadata": {
        "id": "YdHbaU2v525T"
      },
      "execution_count": null,
      "outputs": []
    },
    {
      "cell_type": "code",
      "source": [
        "data = pd.DataFrame(dic)"
      ],
      "metadata": {
        "id": "DoIc4Axi5_Bi"
      },
      "execution_count": null,
      "outputs": []
    },
    {
      "cell_type": "code",
      "source": [
        "data.head()"
      ],
      "metadata": {
        "colab": {
          "base_uri": "https://localhost:8080/",
          "height": 285
        },
        "id": "pOTJnTve6Efd",
        "outputId": "60a944fd-9166-45e0-802b-c60482f9a699"
      },
      "execution_count": null,
      "outputs": [
        {
          "output_type": "execute_result",
          "data": {
            "text/html": [
              "\n",
              "  <div id=\"df-cc9a5532-f574-4887-9926-12a69fb2ba95\">\n",
              "    <div class=\"colab-df-container\">\n",
              "      <div>\n",
              "<style scoped>\n",
              "    .dataframe tbody tr th:only-of-type {\n",
              "        vertical-align: middle;\n",
              "    }\n",
              "\n",
              "    .dataframe tbody tr th {\n",
              "        vertical-align: top;\n",
              "    }\n",
              "\n",
              "    .dataframe thead th {\n",
              "        text-align: right;\n",
              "    }\n",
              "</style>\n",
              "<table border=\"1\" class=\"dataframe\">\n",
              "  <thead>\n",
              "    <tr style=\"text-align: right;\">\n",
              "      <th></th>\n",
              "      <th>Date</th>\n",
              "      <th>Startup</th>\n",
              "      <th>Industry</th>\n",
              "      <th>Location</th>\n",
              "      <th>Investor</th>\n",
              "      <th>Type</th>\n",
              "      <th>Amount</th>\n",
              "    </tr>\n",
              "  </thead>\n",
              "  <tbody>\n",
              "    <tr>\n",
              "      <th>0</th>\n",
              "      <td>01/04/2021</td>\n",
              "      <td>BYJU’S</td>\n",
              "      <td>Edu-tech</td>\n",
              "      <td>Bengaluru</td>\n",
              "      <td>Innoven Capital</td>\n",
              "      <td>Series F</td>\n",
              "      <td>460,000,000</td>\n",
              "    </tr>\n",
              "    <tr>\n",
              "      <th>1</th>\n",
              "      <td>05/04/2021</td>\n",
              "      <td>Meesho</td>\n",
              "      <td>E-commerce</td>\n",
              "      <td>Bengaluru</td>\n",
              "      <td>SoftBank Vision Fund 2</td>\n",
              "      <td>Series E</td>\n",
              "      <td>300,000,000</td>\n",
              "    </tr>\n",
              "    <tr>\n",
              "      <th>2</th>\n",
              "      <td>14/04/2021</td>\n",
              "      <td>Swiggy</td>\n",
              "      <td>Online Food Delivery</td>\n",
              "      <td>Bengaluru</td>\n",
              "      <td>Amansa Holdings, Carmignac, Falcon Edge Capita...</td>\n",
              "      <td>Series J</td>\n",
              "      <td>343,000,000</td>\n",
              "    </tr>\n",
              "    <tr>\n",
              "      <th>3</th>\n",
              "      <td>07/04/2021</td>\n",
              "      <td>Groww</td>\n",
              "      <td>FinTech</td>\n",
              "      <td>Bengaluru</td>\n",
              "      <td>MC Global Edtech, B Capital, Baron, others</td>\n",
              "      <td>Series D</td>\n",
              "      <td>83,000,000</td>\n",
              "    </tr>\n",
              "    <tr>\n",
              "      <th>4</th>\n",
              "      <td>14/04/2021</td>\n",
              "      <td>Beldara</td>\n",
              "      <td>E-commerce</td>\n",
              "      <td>Mumbai</td>\n",
              "      <td>Hindustan Media Ventures</td>\n",
              "      <td>Venture</td>\n",
              "      <td>7,400,000</td>\n",
              "    </tr>\n",
              "  </tbody>\n",
              "</table>\n",
              "</div>\n",
              "      <button class=\"colab-df-convert\" onclick=\"convertToInteractive('df-cc9a5532-f574-4887-9926-12a69fb2ba95')\"\n",
              "              title=\"Convert this dataframe to an interactive table.\"\n",
              "              style=\"display:none;\">\n",
              "        \n",
              "  <svg xmlns=\"http://www.w3.org/2000/svg\" height=\"24px\"viewBox=\"0 0 24 24\"\n",
              "       width=\"24px\">\n",
              "    <path d=\"M0 0h24v24H0V0z\" fill=\"none\"/>\n",
              "    <path d=\"M18.56 5.44l.94 2.06.94-2.06 2.06-.94-2.06-.94-.94-2.06-.94 2.06-2.06.94zm-11 1L8.5 8.5l.94-2.06 2.06-.94-2.06-.94L8.5 2.5l-.94 2.06-2.06.94zm10 10l.94 2.06.94-2.06 2.06-.94-2.06-.94-.94-2.06-.94 2.06-2.06.94z\"/><path d=\"M17.41 7.96l-1.37-1.37c-.4-.4-.92-.59-1.43-.59-.52 0-1.04.2-1.43.59L10.3 9.45l-7.72 7.72c-.78.78-.78 2.05 0 2.83L4 21.41c.39.39.9.59 1.41.59.51 0 1.02-.2 1.41-.59l7.78-7.78 2.81-2.81c.8-.78.8-2.07 0-2.86zM5.41 20L4 18.59l7.72-7.72 1.47 1.35L5.41 20z\"/>\n",
              "  </svg>\n",
              "      </button>\n",
              "      \n",
              "  <style>\n",
              "    .colab-df-container {\n",
              "      display:flex;\n",
              "      flex-wrap:wrap;\n",
              "      gap: 12px;\n",
              "    }\n",
              "\n",
              "    .colab-df-convert {\n",
              "      background-color: #E8F0FE;\n",
              "      border: none;\n",
              "      border-radius: 50%;\n",
              "      cursor: pointer;\n",
              "      display: none;\n",
              "      fill: #1967D2;\n",
              "      height: 32px;\n",
              "      padding: 0 0 0 0;\n",
              "      width: 32px;\n",
              "    }\n",
              "\n",
              "    .colab-df-convert:hover {\n",
              "      background-color: #E2EBFA;\n",
              "      box-shadow: 0px 1px 2px rgba(60, 64, 67, 0.3), 0px 1px 3px 1px rgba(60, 64, 67, 0.15);\n",
              "      fill: #174EA6;\n",
              "    }\n",
              "\n",
              "    [theme=dark] .colab-df-convert {\n",
              "      background-color: #3B4455;\n",
              "      fill: #D2E3FC;\n",
              "    }\n",
              "\n",
              "    [theme=dark] .colab-df-convert:hover {\n",
              "      background-color: #434B5C;\n",
              "      box-shadow: 0px 1px 3px 1px rgba(0, 0, 0, 0.15);\n",
              "      filter: drop-shadow(0px 1px 2px rgba(0, 0, 0, 0.3));\n",
              "      fill: #FFFFFF;\n",
              "    }\n",
              "  </style>\n",
              "\n",
              "      <script>\n",
              "        const buttonEl =\n",
              "          document.querySelector('#df-cc9a5532-f574-4887-9926-12a69fb2ba95 button.colab-df-convert');\n",
              "        buttonEl.style.display =\n",
              "          google.colab.kernel.accessAllowed ? 'block' : 'none';\n",
              "\n",
              "        async function convertToInteractive(key) {\n",
              "          const element = document.querySelector('#df-cc9a5532-f574-4887-9926-12a69fb2ba95');\n",
              "          const dataTable =\n",
              "            await google.colab.kernel.invokeFunction('convertToInteractive',\n",
              "                                                     [key], {});\n",
              "          if (!dataTable) return;\n",
              "\n",
              "          const docLinkHtml = 'Like what you see? Visit the ' +\n",
              "            '<a target=\"_blank\" href=https://colab.research.google.com/notebooks/data_table.ipynb>data table notebook</a>'\n",
              "            + ' to learn more about interactive tables.';\n",
              "          element.innerHTML = '';\n",
              "          dataTable['output_type'] = 'display_data';\n",
              "          await google.colab.output.renderOutput(dataTable, element);\n",
              "          const docLink = document.createElement('div');\n",
              "          docLink.innerHTML = docLinkHtml;\n",
              "          element.appendChild(docLink);\n",
              "        }\n",
              "      </script>\n",
              "    </div>\n",
              "  </div>\n",
              "  "
            ],
            "text/plain": [
              "         Date  Startup  ...      Type       Amount\n",
              "0  01/04/2021   BYJU’S  ...  Series F  460,000,000\n",
              "1  05/04/2021   Meesho  ...  Series E  300,000,000\n",
              "2  14/04/2021   Swiggy  ...  Series J  343,000,000\n",
              "3  07/04/2021    Groww  ...  Series D   83,000,000\n",
              "4  14/04/2021  Beldara  ...   Venture    7,400,000\n",
              "\n",
              "[5 rows x 7 columns]"
            ]
          },
          "metadata": {},
          "execution_count": 20
        }
      ]
    },
    {
      "cell_type": "code",
      "source": [
        "data.to_csv('/content/starup.csv')"
      ],
      "metadata": {
        "id": "ZVnWj_Zp83Jx"
      },
      "execution_count": null,
      "outputs": []
    }
  ]
}